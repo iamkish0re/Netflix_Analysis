{
 "cells": [
  {
   "cell_type": "markdown",
   "id": "46554a9f",
   "metadata": {},
   "source": [
    "# Netflix Data Analysis (Based on View Activity)\n"
   ]
  },
  {
   "cell_type": "code",
   "execution_count": 1,
   "id": "c83a995f",
   "metadata": {},
   "outputs": [],
   "source": [
    "import pandas as pd\n",
    "import seaborn as sns\n",
    "import matplotlib.pyplot as plt\n",
    "import datetime\n",
    "sns.set()"
   ]
  },
  {
   "cell_type": "code",
   "execution_count": 2,
   "id": "5d7d773f",
   "metadata": {},
   "outputs": [],
   "source": [
    "df_activity = pd.read_csv('netflix-report/CONTENT_INTERACTION/ViewingActivity.csv')"
   ]
  },
  {
   "cell_type": "code",
   "execution_count": 3,
   "id": "73456310",
   "metadata": {},
   "outputs": [
    {
     "data": {
      "text/html": [
       "<div>\n",
       "<style scoped>\n",
       "    .dataframe tbody tr th:only-of-type {\n",
       "        vertical-align: middle;\n",
       "    }\n",
       "\n",
       "    .dataframe tbody tr th {\n",
       "        vertical-align: top;\n",
       "    }\n",
       "\n",
       "    .dataframe thead th {\n",
       "        text-align: right;\n",
       "    }\n",
       "</style>\n",
       "<table border=\"1\" class=\"dataframe\">\n",
       "  <thead>\n",
       "    <tr style=\"text-align: right;\">\n",
       "      <th></th>\n",
       "      <th>Profile Name</th>\n",
       "      <th>Start Time</th>\n",
       "      <th>Duration</th>\n",
       "      <th>Attributes</th>\n",
       "      <th>Title</th>\n",
       "      <th>Supplemental Video Type</th>\n",
       "      <th>Device Type</th>\n",
       "      <th>Bookmark</th>\n",
       "      <th>Latest Bookmark</th>\n",
       "      <th>Country</th>\n",
       "    </tr>\n",
       "  </thead>\n",
       "  <tbody>\n",
       "    <tr>\n",
       "      <th>0</th>\n",
       "      <td>Harzzz</td>\n",
       "      <td>2022-07-25 08:22:45</td>\n",
       "      <td>00:15:13</td>\n",
       "      <td>NaN</td>\n",
       "      <td>The Gray Man</td>\n",
       "      <td>NaN</td>\n",
       "      <td>Android DefaultWidevineL3Phone Android Phone</td>\n",
       "      <td>00:27:51</td>\n",
       "      <td>00:27:51</td>\n",
       "      <td>IN (India)</td>\n",
       "    </tr>\n",
       "    <tr>\n",
       "      <th>1</th>\n",
       "      <td>Harzzz</td>\n",
       "      <td>2022-07-23 17:29:40</td>\n",
       "      <td>00:26:32</td>\n",
       "      <td>NaN</td>\n",
       "      <td>Formula 1: Drive to Survive: Season 2: Seeing ...</td>\n",
       "      <td>NaN</td>\n",
       "      <td>Chrome PC (Cadmium)</td>\n",
       "      <td>00:26:37</td>\n",
       "      <td>00:26:37</td>\n",
       "      <td>IN (India)</td>\n",
       "    </tr>\n",
       "    <tr>\n",
       "      <th>2</th>\n",
       "      <td>Harzzz</td>\n",
       "      <td>2022-07-23 16:34:30</td>\n",
       "      <td>00:21:12</td>\n",
       "      <td>NaN</td>\n",
       "      <td>Formula 1: Drive to Survive: Season 2: Raging ...</td>\n",
       "      <td>NaN</td>\n",
       "      <td>Chrome PC (Cadmium)</td>\n",
       "      <td>00:36:01</td>\n",
       "      <td>00:36:01</td>\n",
       "      <td>IN (India)</td>\n",
       "    </tr>\n",
       "    <tr>\n",
       "      <th>3</th>\n",
       "      <td>Harzzz</td>\n",
       "      <td>2022-07-23 16:33:37</td>\n",
       "      <td>00:00:06</td>\n",
       "      <td>Autoplayed: user action: None;</td>\n",
       "      <td>Coming Soon: Evergreen: Formula 1: Drive to Su...</td>\n",
       "      <td>TEASER_TRAILER</td>\n",
       "      <td>Chrome PC (Cadmium)</td>\n",
       "      <td>00:00:06</td>\n",
       "      <td>00:00:06</td>\n",
       "      <td>IN (India)</td>\n",
       "    </tr>\n",
       "    <tr>\n",
       "      <th>4</th>\n",
       "      <td>Harzzz</td>\n",
       "      <td>2022-07-23 16:33:30</td>\n",
       "      <td>00:00:01</td>\n",
       "      <td>NaN</td>\n",
       "      <td>Formula 1: Drive to Survive: Season 2: Boiling...</td>\n",
       "      <td>NaN</td>\n",
       "      <td>Chrome PC (Cadmium)</td>\n",
       "      <td>00:38:38</td>\n",
       "      <td>00:38:38</td>\n",
       "      <td>IN (India)</td>\n",
       "    </tr>\n",
       "  </tbody>\n",
       "</table>\n",
       "</div>"
      ],
      "text/plain": [
       "  Profile Name           Start Time  Duration  \\\n",
       "0       Harzzz  2022-07-25 08:22:45  00:15:13   \n",
       "1       Harzzz  2022-07-23 17:29:40  00:26:32   \n",
       "2       Harzzz  2022-07-23 16:34:30  00:21:12   \n",
       "3       Harzzz  2022-07-23 16:33:37  00:00:06   \n",
       "4       Harzzz  2022-07-23 16:33:30  00:00:01   \n",
       "\n",
       "                        Attributes  \\\n",
       "0                              NaN   \n",
       "1                              NaN   \n",
       "2                              NaN   \n",
       "3  Autoplayed: user action: None;    \n",
       "4                              NaN   \n",
       "\n",
       "                                               Title Supplemental Video Type  \\\n",
       "0                                       The Gray Man                     NaN   \n",
       "1  Formula 1: Drive to Survive: Season 2: Seeing ...                     NaN   \n",
       "2  Formula 1: Drive to Survive: Season 2: Raging ...                     NaN   \n",
       "3  Coming Soon: Evergreen: Formula 1: Drive to Su...          TEASER_TRAILER   \n",
       "4  Formula 1: Drive to Survive: Season 2: Boiling...                     NaN   \n",
       "\n",
       "                                    Device Type  Bookmark Latest Bookmark  \\\n",
       "0  Android DefaultWidevineL3Phone Android Phone  00:27:51        00:27:51   \n",
       "1                           Chrome PC (Cadmium)  00:26:37        00:26:37   \n",
       "2                           Chrome PC (Cadmium)  00:36:01        00:36:01   \n",
       "3                           Chrome PC (Cadmium)  00:00:06        00:00:06   \n",
       "4                           Chrome PC (Cadmium)  00:38:38        00:38:38   \n",
       "\n",
       "      Country  \n",
       "0  IN (India)  \n",
       "1  IN (India)  \n",
       "2  IN (India)  \n",
       "3  IN (India)  \n",
       "4  IN (India)  "
      ]
     },
     "execution_count": 3,
     "metadata": {},
     "output_type": "execute_result"
    }
   ],
   "source": [
    "df_activity.head()"
   ]
  },
  {
   "cell_type": "markdown",
   "id": "d95216e9",
   "metadata": {},
   "source": [
    "## Data Cleaning"
   ]
  },
  {
   "cell_type": "code",
   "execution_count": 7,
   "id": "ea47dd44",
   "metadata": {},
   "outputs": [],
   "source": [
    "df_my_activity = df_activity[df_activity['Profile Name'] == 'Kimzzz']"
   ]
  },
  {
   "cell_type": "code",
   "execution_count": 9,
   "id": "026b3942",
   "metadata": {},
   "outputs": [
    {
     "data": {
      "text/html": [
       "<div>\n",
       "<style scoped>\n",
       "    .dataframe tbody tr th:only-of-type {\n",
       "        vertical-align: middle;\n",
       "    }\n",
       "\n",
       "    .dataframe tbody tr th {\n",
       "        vertical-align: top;\n",
       "    }\n",
       "\n",
       "    .dataframe thead th {\n",
       "        text-align: right;\n",
       "    }\n",
       "</style>\n",
       "<table border=\"1\" class=\"dataframe\">\n",
       "  <thead>\n",
       "    <tr style=\"text-align: right;\">\n",
       "      <th></th>\n",
       "      <th>Profile Name</th>\n",
       "      <th>Start Time</th>\n",
       "      <th>Duration</th>\n",
       "      <th>Attributes</th>\n",
       "      <th>Title</th>\n",
       "      <th>Supplemental Video Type</th>\n",
       "      <th>Device Type</th>\n",
       "      <th>Bookmark</th>\n",
       "      <th>Latest Bookmark</th>\n",
       "      <th>Country</th>\n",
       "    </tr>\n",
       "  </thead>\n",
       "  <tbody>\n",
       "    <tr>\n",
       "      <th>4390</th>\n",
       "      <td>Kimzzz</td>\n",
       "      <td>2022-07-25 12:39:25</td>\n",
       "      <td>00:02:00</td>\n",
       "      <td>NaN</td>\n",
       "      <td>Riverdale: Season 6: Chapter One Hundred and S...</td>\n",
       "      <td>NaN</td>\n",
       "      <td>Android DefaultWidevineL3Phone Android Phone</td>\n",
       "      <td>00:01:59</td>\n",
       "      <td>00:01:59</td>\n",
       "      <td>IN (India)</td>\n",
       "    </tr>\n",
       "    <tr>\n",
       "      <th>4391</th>\n",
       "      <td>Kimzzz</td>\n",
       "      <td>2022-07-25 12:39:15</td>\n",
       "      <td>00:00:01</td>\n",
       "      <td>NaN</td>\n",
       "      <td>Gotham: Season 1: Everyone Has a Cobblepot (Ep...</td>\n",
       "      <td>NaN</td>\n",
       "      <td>Android DefaultWidevineL3Phone Android Phone</td>\n",
       "      <td>00:12:03</td>\n",
       "      <td>00:12:03</td>\n",
       "      <td>IN (India)</td>\n",
       "    </tr>\n",
       "    <tr>\n",
       "      <th>4392</th>\n",
       "      <td>Kimzzz</td>\n",
       "      <td>2022-07-25 09:24:49</td>\n",
       "      <td>00:08:24</td>\n",
       "      <td>NaN</td>\n",
       "      <td>Gotham: Season 1: Everyone Has a Cobblepot (Ep...</td>\n",
       "      <td>NaN</td>\n",
       "      <td>Android DefaultWidevineL3Phone Android Phone</td>\n",
       "      <td>00:12:06</td>\n",
       "      <td>Not latest view</td>\n",
       "      <td>IN (India)</td>\n",
       "    </tr>\n",
       "    <tr>\n",
       "      <th>4393</th>\n",
       "      <td>Kimzzz</td>\n",
       "      <td>2022-07-25 09:21:05</td>\n",
       "      <td>00:03:35</td>\n",
       "      <td>NaN</td>\n",
       "      <td>Gotham: Season 1: Red Hood (Episode 17)</td>\n",
       "      <td>NaN</td>\n",
       "      <td>Android DefaultWidevineL3Phone Android Phone</td>\n",
       "      <td>00:42:43</td>\n",
       "      <td>00:42:43</td>\n",
       "      <td>IN (India)</td>\n",
       "    </tr>\n",
       "    <tr>\n",
       "      <th>4394</th>\n",
       "      <td>Kimzzz</td>\n",
       "      <td>2022-07-25 08:59:37</td>\n",
       "      <td>00:12:52</td>\n",
       "      <td>NaN</td>\n",
       "      <td>Gotham: Season 1: Red Hood (Episode 17)</td>\n",
       "      <td>NaN</td>\n",
       "      <td>Android DefaultWidevineL3Phone Android Phone</td>\n",
       "      <td>00:30:04</td>\n",
       "      <td>Not latest view</td>\n",
       "      <td>IN (India)</td>\n",
       "    </tr>\n",
       "  </tbody>\n",
       "</table>\n",
       "</div>"
      ],
      "text/plain": [
       "     Profile Name           Start Time  Duration Attributes  \\\n",
       "4390       Kimzzz  2022-07-25 12:39:25  00:02:00        NaN   \n",
       "4391       Kimzzz  2022-07-25 12:39:15  00:00:01        NaN   \n",
       "4392       Kimzzz  2022-07-25 09:24:49  00:08:24        NaN   \n",
       "4393       Kimzzz  2022-07-25 09:21:05  00:03:35        NaN   \n",
       "4394       Kimzzz  2022-07-25 08:59:37  00:12:52        NaN   \n",
       "\n",
       "                                                  Title  \\\n",
       "4390  Riverdale: Season 6: Chapter One Hundred and S...   \n",
       "4391  Gotham: Season 1: Everyone Has a Cobblepot (Ep...   \n",
       "4392  Gotham: Season 1: Everyone Has a Cobblepot (Ep...   \n",
       "4393            Gotham: Season 1: Red Hood (Episode 17)   \n",
       "4394            Gotham: Season 1: Red Hood (Episode 17)   \n",
       "\n",
       "     Supplemental Video Type                                   Device Type  \\\n",
       "4390                     NaN  Android DefaultWidevineL3Phone Android Phone   \n",
       "4391                     NaN  Android DefaultWidevineL3Phone Android Phone   \n",
       "4392                     NaN  Android DefaultWidevineL3Phone Android Phone   \n",
       "4393                     NaN  Android DefaultWidevineL3Phone Android Phone   \n",
       "4394                     NaN  Android DefaultWidevineL3Phone Android Phone   \n",
       "\n",
       "      Bookmark  Latest Bookmark     Country  \n",
       "4390  00:01:59         00:01:59  IN (India)  \n",
       "4391  00:12:03         00:12:03  IN (India)  \n",
       "4392  00:12:06  Not latest view  IN (India)  \n",
       "4393  00:42:43         00:42:43  IN (India)  \n",
       "4394  00:30:04  Not latest view  IN (India)  "
      ]
     },
     "execution_count": 9,
     "metadata": {},
     "output_type": "execute_result"
    }
   ],
   "source": [
    "df_my_activity.head()"
   ]
  },
  {
   "cell_type": "code",
   "execution_count": null,
   "id": "682a35bb",
   "metadata": {},
   "outputs": [],
   "source": []
  },
  {
   "cell_type": "code",
   "execution_count": 10,
   "id": "9b5fefb3",
   "metadata": {},
   "outputs": [],
   "source": [
    "df_my_activity = df_my_activity.drop(['Attributes', 'Device Type', 'Bookmark', 'Latest Bookmark', 'Country'], axis=1)"
   ]
  },
  {
   "cell_type": "code",
   "execution_count": 11,
   "id": "cecdfa30",
   "metadata": {},
   "outputs": [],
   "source": [
    "df_my_activity = df_my_activity.reset_index().drop(['index'], axis = 1)"
   ]
  },
  {
   "cell_type": "code",
   "execution_count": 12,
   "id": "5ff47115",
   "metadata": {},
   "outputs": [
    {
     "data": {
      "text/plain": [
       "HOOK              491\n",
       "TRAILER           268\n",
       "PROMOTIONAL       134\n",
       "TEASER_TRAILER     48\n",
       "PREVIEW            19\n",
       "RECAP               7\n",
       "BUMPER              3\n",
       "TUTORIAL            1\n",
       "Name: Supplemental Video Type, dtype: int64"
      ]
     },
     "execution_count": 12,
     "metadata": {},
     "output_type": "execute_result"
    }
   ],
   "source": [
    "df_my_activity['Supplemental Video Type'].value_counts()"
   ]
  },
  {
   "cell_type": "code",
   "execution_count": 13,
   "id": "058341e4",
   "metadata": {},
   "outputs": [],
   "source": [
    "df_my_activity = df_my_activity[df_my_activity['Supplemental Video Type'].isna()]"
   ]
  },
  {
   "cell_type": "code",
   "execution_count": 14,
   "id": "4d41b17c",
   "metadata": {},
   "outputs": [
    {
     "name": "stdout",
     "output_type": "stream",
     "text": [
      "<class 'pandas.core.frame.DataFrame'>\n",
      "Int64Index: 2014 entries, 0 to 2984\n",
      "Data columns (total 5 columns):\n",
      " #   Column                   Non-Null Count  Dtype \n",
      "---  ------                   --------------  ----- \n",
      " 0   Profile Name             2014 non-null   object\n",
      " 1   Start Time               2014 non-null   object\n",
      " 2   Duration                 2014 non-null   object\n",
      " 3   Title                    2014 non-null   object\n",
      " 4   Supplemental Video Type  0 non-null      object\n",
      "dtypes: object(5)\n",
      "memory usage: 94.4+ KB\n"
     ]
    }
   ],
   "source": [
    "df_my_activity.info()"
   ]
  },
  {
   "cell_type": "code",
   "execution_count": 15,
   "id": "69e70477",
   "metadata": {},
   "outputs": [],
   "source": [
    "df_my_activity['Duration_Seconds'] = df_my_activity['Duration'].str.split(':').apply(lambda x: int(x[0])*3600 + int(x[1])*60 + int(x[2]))"
   ]
  },
  {
   "cell_type": "code",
   "execution_count": 16,
   "id": "7ef76ef1",
   "metadata": {},
   "outputs": [],
   "source": [
    "df_my_activity = df_my_activity.rename(columns = {'Start Time':'c'})"
   ]
  },
  {
   "cell_type": "code",
   "execution_count": null,
   "id": "591b875a",
   "metadata": {},
   "outputs": [],
   "source": [
    "df_my_activity['Start Time'] = pd.to_datetime(df_my_activity['Start Time'])\n",
    "df_my_activity['Duration'] = pd.to_timedelta(df_my_activity['Duration'])"
   ]
  },
  {
   "cell_type": "code",
   "execution_count": null,
   "id": "49545ff6",
   "metadata": {},
   "outputs": [],
   "source": [
    "df_my_activity.dtypes"
   ]
  },
  {
   "cell_type": "code",
   "execution_count": null,
   "id": "6f04779d",
   "metadata": {},
   "outputs": [],
   "source": [
    "df_my_activity['Year'], df_my_activity['Month'] = df_my_activity['Date'].dt.year, df_my_activity['Date'].dt.month_name()\n",
    "df_my_activity['Day'] = df_my_activity['Date'].dt.day\n",
    "df_my_activity['Day_of_week'] = df_my_activity['Date'].dt.day_name()"
   ]
  },
  {
   "cell_type": "code",
   "execution_count": null,
   "id": "7f409a71",
   "metadata": {},
   "outputs": [],
   "source": [
    "df_my_activity.head()"
   ]
  },
  {
   "cell_type": "code",
   "execution_count": null,
   "id": "95d43dc6",
   "metadata": {},
   "outputs": [],
   "source": [
    "show_details = df_my_activity['Title'].str.split(\":\", expand=True, n=2)\n",
    "#show_details\n",
    "df_my_activity['Show_name'] = show_details[0]\n",
    "df_my_activity['Season'] = show_details[1]\n",
    "df_my_activity['Episode_name'] = show_details[2]"
   ]
  },
  {
   "cell_type": "code",
   "execution_count": null,
   "id": "c862851e",
   "metadata": {},
   "outputs": [],
   "source": [
    "df_my_activity.head()"
   ]
  },
  {
   "cell_type": "code",
   "execution_count": null,
   "id": "00d0cda8",
   "metadata": {},
   "outputs": [],
   "source": [
    "df_my_activity['Show_type'] = df_my_activity.apply(lambda x:'Movie' if pd.isnull(x['Season']) else 'TV Show' , axis=1)"
   ]
  },
  {
   "cell_type": "code",
   "execution_count": null,
   "id": "a4fdb064",
   "metadata": {},
   "outputs": [],
   "source": [
    "df_my_activity.head(1)"
   ]
  },
  {
   "cell_type": "markdown",
   "id": "0022db48",
   "metadata": {},
   "source": [
    "## Analysis based on Frequency"
   ]
  },
  {
   "cell_type": "code",
   "execution_count": null,
   "id": "30008bd3",
   "metadata": {},
   "outputs": [],
   "source": [
    "plt.figure(figsize=(10,5))\n",
    "plt.title(\"Day of the month - Monthly viewing distribution\")\n",
    "ax = sns.histplot(df_my_activity['Day'],\n",
    "                  bins=31,\n",
    "                  color=\"blue\")\n",
    "plt.show()"
   ]
  },
  {
   "cell_type": "code",
   "execution_count": null,
   "id": "7101f89e",
   "metadata": {},
   "outputs": [],
   "source": [
    "plt.figure(figsize=(10,5))\n",
    "ax = sns.barplot(x = df_my_activity[\"Day_of_week\"].value_counts().index, \n",
    "                 y = df_my_activity[\"Day_of_week\"].value_counts(), \n",
    "                 palette=\"Blues_d\")\n",
    "plt.title(\"Day of the week - Weekly viewing distribution\")\n",
    "plt.xlabel(\"Day of the Week\")\n",
    "plt.ylabel(\"Frequency\")\n",
    "plt.show()"
   ]
  },
  {
   "cell_type": "code",
   "execution_count": null,
   "id": "9a778980",
   "metadata": {},
   "outputs": [],
   "source": [
    "show_freq = df_my_activity.groupby('Show_type')['Day_of_week'].value_counts().sort_values(ascending=False).reset_index(name='Count')\n",
    "#show_freq\n",
    "plt.figure(figsize=(10,5))\n",
    "ax = sns.barplot(x = show_freq[\"Day_of_week\"], \n",
    "                 y = show_freq[\"Count\"], \n",
    "                 hue=show_freq[\"Show_type\"], \n",
    "                 palette=\"Blues_d\")\n",
    "plt.title(\"Movies vs. Shows\")\n",
    "plt.show()"
   ]
  },
  {
   "cell_type": "code",
   "execution_count": null,
   "id": "d0939df1",
   "metadata": {},
   "outputs": [],
   "source": [
    "plt.figure(figsize=(10,5))\n",
    "ax = sns.barplot(y = df_my_activity['Show_name'].sort_values(ascending=True).value_counts().index[:10], \n",
    "                 x = df_my_activity['Show_name'].sort_values(ascending=True).value_counts()[:10])\n",
    "plt.title(\"Shows with most time spent\")\n",
    "plt.xlabel(\"Show/Movie Name\")\n",
    "plt.ylabel(\"Frequency of Watching\")\n",
    "loc, labels = plt.xticks()\n",
    "# ax.set_xticklabels(labels, rotation=45)\n",
    "plt.show()"
   ]
  },
  {
   "cell_type": "code",
   "execution_count": null,
   "id": "a373dcd9",
   "metadata": {},
   "outputs": [],
   "source": [
    "plt.figure(figsize=(10,5))\n",
    "ax = sns.barplot(y = df_my_activity['Show_name'].sort_values(ascending=True).value_counts().index[-15:], \n",
    "                 x = df_my_activity['Show_name'].sort_values(ascending=True).value_counts()[-15:])\n",
    "plt.title(\"Shows with least time spent\")\n",
    "plt.xlabel(\"Show/Movie Name\")\n",
    "plt.ylabel(\"Frequency of Watching\")\n",
    "loc, labels = plt.xticks()\n",
    "plt.show()"
   ]
  },
  {
   "cell_type": "markdown",
   "id": "3ce59305",
   "metadata": {},
   "source": [
    "## Analysis based on Duration"
   ]
  },
  {
   "cell_type": "code",
   "execution_count": null,
   "id": "d0bdc6d5",
   "metadata": {},
   "outputs": [],
   "source": [
    "avg_seconds_per_day = df_my_activity.groupby('Day_of_week')['Duration_Seconds'].mean().sort_values()\n",
    "\n",
    "sns.set_style(\"darkgrid\")\n",
    "font = {'family': 'serif',\n",
    "        'color': '#004466',\n",
    "        'weight': 'normal',\n",
    "        'size': 15}\n",
    "plt.figure(figsize=(10,5))\n",
    "ax = sns.barplot(x = avg_seconds_per_day.index, \n",
    "                 y = avg_seconds_per_day.values, \n",
    "                 palette=(\"Blues_d\"))\n",
    "ax.set_ylabel('Viewing Duration (in Seconds)',fontdict={'size': 13, 'family': 'serif'})\n",
    "ax.set_xlabel('Day of Week', fontdict={'size': 13, 'family': 'serif'})\n",
    "ax.set_title('Average Viewing Time per Day (in seconds)', fontdict=font)\n",
    "ax.tick_params(axis = 'both', labelsize= 12)"
   ]
  },
  {
   "cell_type": "code",
   "execution_count": null,
   "id": "da0bab1a",
   "metadata": {},
   "outputs": [],
   "source": [
    "most_watched_tv_series = df_my_activity.groupby('Show_name')['Duration_Seconds'].mean().reset_index().sort_values(by = 'Duration_Seconds', ascending = False) \n",
    "font = {‘family’: ‘serif’, ‘color’: ‘#004466’, ‘weight’: ‘normal’, ‘size’: 16} \n",
    "plt.figure(figsize=(22, 12)) \n",
    "ax = sns.barplot(y = most_watched_tv_series[‘TV Show’][:10], x = most_watched_tv_series[‘Duration (Seconds)’][:10], orient = ‘h’, ci = ‘None’) \n",
    "ax.set_ylabel(‘TV Series’, fontdict={‘size’: 13, ‘family’: ‘serif’}) ax.set_xlabel(‘Watch Time (in seconds)’, fontdict={‘size’: 13, ‘family’: ‘serif’}) \n",
    "ax.set_title(‘Top 10 TV Shows by Average Duration (seconds)’, fontdict=font) \n",
    "ax.tick_params(axis = ‘both’, labelsize= 12) "
   ]
  },
  {
   "cell_type": "code",
   "execution_count": null,
   "id": "4f73788b",
   "metadata": {},
   "outputs": [],
   "source": []
  }
 ],
 "metadata": {
  "kernelspec": {
   "display_name": "Python 3 (ipykernel)",
   "language": "python",
   "name": "python3"
  },
  "language_info": {
   "codemirror_mode": {
    "name": "ipython",
    "version": 3
   },
   "file_extension": ".py",
   "mimetype": "text/x-python",
   "name": "python",
   "nbconvert_exporter": "python",
   "pygments_lexer": "ipython3",
   "version": "3.9.12"
  }
 },
 "nbformat": 4,
 "nbformat_minor": 5
}
